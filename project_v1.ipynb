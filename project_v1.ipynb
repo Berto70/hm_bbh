{
 "cells": [
  {
   "cell_type": "markdown",
   "metadata": {},
   "source": [
    "# LCPA 23-24 - \"Hierarchical mergers of binary black holes\""
   ]
  },
  {
   "cell_type": "markdown",
   "metadata": {},
   "source": [
    "\n",
    "<center><h1>Group 07</h1></center>\n",
    "\n",
    "\n",
    "<center><style>\n",
    "table {\n",
    "    font-size: 24px;\n",
    "}\n",
    "</style></center>\n",
    "\n",
    "| Last Name          | First Name            |Student Number|\n",
    "|--------------------|-----------------------|----------------|\n",
    "| Bertinelli         | Gabriele              |2103359         |\n",
    "| Boccanera          | Eugenia               |                |\n",
    "| Cacciola           | Martina               |2097476         |\n",
    "| Lovato             | Matteo                |                |           \n"
   ]
  },
  {
   "cell_type": "markdown",
   "metadata": {},
   "source": [
    "## Import modules"
   ]
  },
  {
   "cell_type": "code",
   "execution_count": 1,
   "metadata": {},
   "outputs": [],
   "source": [
    "import numpy as np\n",
    "import pandas as pd\n",
    "import polars as pl \n",
    "\n",
    "import matplotlib.pyplot as plt\n",
    "import hvplot\n",
    "import seaborn as sns\n",
    "\n",
    "import numpy.typing as npt\n",
    "from typing import Optional, Tuple, Callable, Union, List\n",
    "\n",
    "from sklearn.ensemble import RandomForestClassifier\n",
    "from sklearn.model_selection import train_test_split, GridSearchCV\n",
    "from sklearn.utils import resample\n",
    "from sklearn.metrics import accuracy_score, ConfusionMatrixDisplay\n",
    "from sklearn.preprocessing import MinMaxScaler\n",
    "\n",
    "%matplotlib inline"
   ]
  },
  {
   "cell_type": "markdown",
   "metadata": {},
   "source": [
    "## Dataset creation"
   ]
  },
  {
   "cell_type": "code",
   "execution_count": 2,
   "metadata": {},
   "outputs": [],
   "source": [
    "def create_dataset(path: str, folders: List[str], mets: List[str], cols: List[str]) -> pl.DataFrame:\n",
    "\n",
    "    \"\"\"\n",
    "    Function that takes in input a list of folders and a list of metallicities.\n",
    "    It returns a polars lazy DataFrame with all the data from the folders and metallicities.\n",
    "\n",
    "    :params path: path to the data parent folder (remember to add the final '/')\n",
    "    :params folders: list of selected folders\n",
    "    :params mets: list of selected metallicities\n",
    "    :params cols: list of selected columns original names\n",
    "    :return: a `polars` DataFrame with all the data from the folders and metallicities\n",
    "    \"\"\"\n",
    "\n",
    "    name = 'nth_generation.txt'\n",
    "\n",
    "    col_name = ['c' + str(i) for i in range(28)]\n",
    "\n",
    "    for i in range(len(folders)):\n",
    "        for j in range(len(mets)):\n",
    "\n",
    "            \n",
    "            file_q = pl.scan_csv(path + folders[i] + '/Dyn/' + \n",
    "                                mets[j] + '/' + name, \n",
    "                                separator = ' ', has_header=True,\n",
    "                                new_columns = col_name).select(cols) # select bold columns -> most important for this analysis\n",
    "            \n",
    "            \n",
    "            met = pl.Series([float(mets[j]) for k in range(file_q.collect().height)]) # add metallicity column\n",
    "\n",
    "            # univocal ID given by the original ID . metallicity folder . hosting obj folder\n",
    "            new_id = pl.Series(file_q.select(pl.col('c0')).cast(pl.String).collect() + '.' + str(j) + '.' + str(i))#.cast(pl.Float64)\n",
    "\n",
    "            # hosting object label set: 0 -> GC, 1 -> nSC, 2 -> ySC\n",
    "            label = pl.Series([i for _ in range(file_q.collect().height)])\n",
    "\n",
    "            file_q = file_q.with_columns(label.alias('label'), met.alias('met'), new_id.alias('c0')) \n",
    "\n",
    "            if i == 0 and j==0:\n",
    "                df = file_q.collect()\n",
    "                \n",
    "            else:\n",
    "                \n",
    "                df = df.vstack(file_q.collect())\n",
    "\n",
    "    return df\n",
    "\n",
    "\n",
    "def rename_columns(df: pl.DataFrame, new_cols: List[str]) -> pl.DataFrame:\n",
    "    \"\"\"\n",
    "    Function that takes in input a DataFrame and a list of new column names (apart from the last two columns).\n",
    "    It returns a DataFrame with renamed columns.\n",
    "\n",
    "    :params df: input `polars` or `pandas` DataFrame \n",
    "    :params new_cols: list of new column names\n",
    "    :return: a `polars` or `pandas` DataFrame with renamed columns\n",
    "    \"\"\"\n",
    "    old_cols = df.columns\n",
    "\n",
    "    rename_dict = {old_cols[i]: new_cols[i] for i in range(len(old_cols)-2)}\n",
    "    df = df.rename(rename_dict)\n",
    "\n",
    "    return df\n",
    "\n",
    "\n",
    "def get_label_ngen(df: pl.DataFrame) -> pl.DataFrame:\n",
    "\n",
    "    \"\"\"\n",
    "    Function that takes in input a DataFrame and returns a new column with the label for the nth generation.\n",
    "     - 0 if the ID is unique, meaning that the binary systems did not evolve further (from the 2nd generation); \n",
    "     - 1 if the ID is not unique, meaning that the binary systems evolved further (from the 2nd generation).\n",
    "\n",
    "    :param df: DataFrame\n",
    "    :return: DataFrame\n",
    "    \"\"\"\n",
    "    id_counts = df.group_by('ID').agg(pl.count('ID').alias('count'))\n",
    "\n",
    "    # Join the count information back to the original DataFrame\n",
    "    df = df.join(id_counts, on='ID', how='left')\n",
    "\n",
    "    # Add the new column based on your condition\n",
    "    df = df.with_columns(\n",
    "        pl.when(df['count'] > 1)\n",
    "        .then(1)\n",
    "        .otherwise(0)\n",
    "        .alias('label_ngen')\n",
    "    )\n",
    "\n",
    "    # Drop the temporary count column if needed\n",
    "    df = df.drop('count')\n",
    "\n",
    "    return df"
   ]
  },
  {
   "cell_type": "code",
   "execution_count": 3,
   "metadata": {},
   "outputs": [],
   "source": [
    "path = '../project/data/'\n",
    "\n",
    "folder = ['GC_chi01_output_noclusterevolv', 'NSC_chi01_output_noclusterevolv',\n",
    "               'YSC_chi01_output_noclusterevolv']\n",
    "    \n",
    "metallicity = ['0.0002', '0.002', '0.02', '0.0004', '0.004', '0.006', '0.0008',\n",
    "                   '0.008', '0.0012', '0.012', '0.0016', '0.016']\n",
    "\n",
    "cols = ['c0', 'c1', 'c2', 'c3', 'c4', 'c7', 'c8', 'c9', 'c13', 'c15', 'c16', 'c17', 'c25', 'c27'] # select bold columns -> most important for this analysis\n",
    "\n",
    "new_cols = ['ID', 'bh_mass1', 'bh_mass2', 'spin1', 'spin2', 'semimajor', 'i_ecc', 'time_dyn', 'time_merge', \n",
    "'remnant_mass', 'remnant_spin', 'escape_vel', 'cluster_mass', 'n_gen']"
   ]
  },
  {
   "cell_type": "code",
   "execution_count": 4,
   "metadata": {},
   "outputs": [],
   "source": [
    "df = create_dataset(path, folder, metallicity, cols)\n",
    "\n",
    "df = rename_columns(df, new_cols)\n",
    "\n",
    "df = get_label_ngen(df)"
   ]
  },
  {
   "cell_type": "code",
   "execution_count": null,
   "metadata": {},
   "outputs": [],
   "source": [
    "df"
   ]
  },
  {
   "cell_type": "code",
   "execution_count": null,
   "metadata": {},
   "outputs": [],
   "source": [
    "# %%timeit \n",
    "# df = create_dataset(path, folders=folder, mets=metallicity)"
   ]
  },
  {
   "cell_type": "code",
   "execution_count": null,
   "metadata": {},
   "outputs": [],
   "source": [
    "# import pandas as pd\n",
    "# import numpy as np\n",
    "\n",
    "# def create_dataset_pd(path: str, folders: List[str], mets: List[str]) -> pd.DataFrame:\n",
    "#     \"\"\"\n",
    "#     Function that takes in input a list of folders and a list of metallicities.\n",
    "#     It returns a pandas DataFrame with all the data from the folders and metallicities.\n",
    "\n",
    "#     :params path: path to the data parent folder (remember to add the final '/')\n",
    "#     :params folders: list of folders\n",
    "#     :params mets: list of metallicities\n",
    "#     :return: a `pandas` DataFrame with all the data from the folders and metallicities\n",
    "#     \"\"\"\n",
    "\n",
    "#     name = 'nth_generation.txt'\n",
    "#     col_name = ['c' + str(i) for i in range(28)]\n",
    "#     df = pd.DataFrame()\n",
    "\n",
    "#     for i in range(len(folders)):\n",
    "#         for j in range(len(mets)):\n",
    "#             file_path = path + folders[i] + '/Dyn/' + mets[j] + '/' + name\n",
    "#             file_q = pd.read_csv(file_path, sep=' ', names=col_name, header=0, low_memory=False)\n",
    "#             file_q = file_q[['c0', 'c1', 'c2', 'c3', 'c4', 'c9', 'c13', 'c15', 'c16', 'c17', 'c25', 'c27']] # select bold columns -> most important for this analysis\n",
    "            \n",
    "#             met = pd.Series([float(mets[j]) for _ in range(file_q.shape[0])]) # add metallicity column\n",
    "#             file_q['met'] = met\n",
    "\n",
    "#             # labels set: 0 -> GC, 1 -> nSC, 2 -> ySC\n",
    "#             if i == 0:\n",
    "#                 label = pd.Series([0 for _ in range(file_q.shape[0])])\n",
    "#             elif i == 1:\n",
    "#                 label = pd.Series([1 for _ in range(file_q.shape[0])])\n",
    "#             elif i == 2:\n",
    "#                 label = pd.Series([2 for _ in range(file_q.shape[0])])\n",
    "\n",
    "#             file_q['label'] = label\n",
    "\n",
    "#             df = pd.concat([df, file_q], ignore_index=True)\n",
    "\n",
    "#     return df"
   ]
  },
  {
   "cell_type": "code",
   "execution_count": null,
   "metadata": {},
   "outputs": [],
   "source": [
    "# %%timeit \n",
    "# df_pd = create_dataset_pd(path, folders=folder, mets=metallicity)"
   ]
  },
  {
   "cell_type": "code",
   "execution_count": null,
   "metadata": {},
   "outputs": [],
   "source": [
    "#df_n = df.select('c3', 'c4', 'label').sample(n=500, shuffle=True)"
   ]
  },
  {
   "cell_type": "code",
   "execution_count": null,
   "metadata": {},
   "outputs": [],
   "source": [
    "# df_n.plot.scatter(x='c3', y='c4', by='label', alpha=0.8, figsize=(10, 10), muted_alpha=0.1)"
   ]
  },
  {
   "cell_type": "markdown",
   "metadata": {},
   "source": [
    "### Data prep"
   ]
  },
  {
   "cell_type": "code",
   "execution_count": 15,
   "metadata": {},
   "outputs": [],
   "source": [
    "def data_preprocessing(df: pl.DataFrame, n_sample: int, label: str, test_size: float, random_state: int=42) -> Tuple[pd.DataFrame, pd.DataFrame, npt.NDArray, npt.NDArray, npt.NDArray, npt.NDArray]:\n",
    "    \n",
    "    \"\"\"\n",
    "    Function that takes in input a `polars` DataFrame and returns the preprocessed data for the ML model.\n",
    "\n",
    "    :params df: input `polars` DataFrame, that will be converted into a `pandas` DataFrame\n",
    "    :params n_samples: number of samples to select\n",
    "    :params label: label column name\n",
    "    :params random_state: random state for reproducibility\n",
    "    :params test_size: test size for the train/test split\n",
    "    :return: a tuple with the preprocessed data: X, y, X_train, y_train, X_test, y_test\n",
    "    \n",
    "    \"\"\"\n",
    "\n",
    "    df =  df.to_pandas()\n",
    "    \n",
    "    # Separate majority and minority classes\n",
    "    df_majority = df[df[label]==df[label].value_counts().idxmax()]\n",
    "    df_minority = df[df[label]==df[label].value_counts().idxmin()]\n",
    "\n",
    "    # Downsample majority class\n",
    "    df_majority_downsampled = resample(df_majority, \n",
    "                                    replace=False,    # sample without replacement\n",
    "                                    n_samples=df_minority.shape[0],     # to match minority class\n",
    "                                    random_state=random_state) # reproducible results\n",
    "\n",
    "    # Combine minority class with downsampled majority class\n",
    "    df_balanced = pd.concat([df_majority_downsampled, df_minority])\n",
    "\n",
    "    # Display new class counts\n",
    "    print(df_balanced[label].value_counts())\n",
    "\n",
    "    # Now let's select 10000 samples\n",
    "    df_sample = df_balanced.sample(n=n_sample, random_state=random_state)\n",
    "\n",
    "    # Define features and target\n",
    "    X = df_sample.drop(['ID', 'label', 'n_gen', 'label_ngen'], axis=1)\n",
    "    y = df_sample[label]\n",
    "\n",
    "    # Split the data into training and testing sets\n",
    "    X_train, X_test, y_train, y_test = train_test_split(X, y, test_size=test_size, random_state=random_state)\n",
    "\n",
    "    # Initialize the scaler\n",
    "    scaler = MinMaxScaler()\n",
    "\n",
    "    # Fit the scaler to the training data and transform\n",
    "    X_train = scaler.fit_transform(X_train)\n",
    "\n",
    "    # Transform the test data\n",
    "    X_test = scaler.transform(X_test)\n",
    "\n",
    "    return X, y, X_train, y_train, X_test, y_test"
   ]
  },
  {
   "cell_type": "markdown",
   "metadata": {},
   "source": [
    "### Simple Random Forest"
   ]
  },
  {
   "cell_type": "code",
   "execution_count": 6,
   "metadata": {},
   "outputs": [],
   "source": [
    "def simple_RF(X_train: npt.NDArray, y_train: npt.NDArray, X_test: npt.NDArray, random_state: int=42) -> Tuple[RandomForestClassifier, npt.NDArray]:\n",
    "    \n",
    "    \"\"\"\n",
    "    Function that takes in input the preprocessed data and returns a simple Random Forest model.\n",
    "\n",
    "    :params X_train: training features\n",
    "    :params y_train: training target\n",
    "    :params X_test: testing features\n",
    "    :params random_state: random state for reproducibility\n",
    "    :return: a tuple with the model, the predictions target: model, y_pred\n",
    "    \n",
    "    \"\"\"\n",
    "\n",
    "    # Initialize the Random Forest Classifier\n",
    "    RF = RandomForestClassifier(n_estimators=10, class_weight='balanced_subsample', criterion='entropy', random_state=random_state)\n",
    "\n",
    "    # Fit the model to the training data\n",
    "    RF.fit(X_train, y_train)\n",
    "\n",
    "    # Make predictions on the test data\n",
    "    y_pred = RF.predict(X_test)\n",
    "\n",
    "    return RF, y_pred\n",
    "\n",
    "def model_evaluation(model: RandomForestClassifier, X: npt.NDArray, y: npt.NDArray, X_train: npt.NDArray, y_train: npt.NDArray, X_test: npt.NDArray, y_test: npt.NDArray, y_pred: npt.NDArray) -> None:\n",
    "    \n",
    "    \"\"\"\n",
    "    Function that takes in input the model and the preprocessed data and returns the evaluation of the model: Training Score, Test Score, Confusion Matrix and Feature Importances.\n",
    "\n",
    "    :params model: Random Forest model\n",
    "    :params X: features\n",
    "    :params y: target\n",
    "    :params X_train: training features\n",
    "    :params y_train: training target\n",
    "    :params X_test: testing features\n",
    "    :params y_test: testing target\n",
    "    :params y_pred: model predictions\n",
    "    :return: None \n",
    "    \"\"\"\n",
    "\n",
    "    #std = np.std([tree.feature_importances_ for tree in model.estimators_], axis=0)\n",
    "\n",
    "    # Get feature importances\n",
    "    importances = model.feature_importances_\n",
    "\n",
    "    # Convert the importances into one-dimensional 1darray with corresponding df column names as axis labels\n",
    "    f_importances = pd.Series(importances, X.columns)\n",
    "\n",
    "    # Sort the array in descending order of the importances\n",
    "    f_importances.sort_values(ascending=False, inplace=True)\n",
    "\n",
    "    print(\"Training Score:\", model.score(X_train, y_train))\n",
    "    print(\"Test score (Accuracy):    \", model.score(X_test, y_test))\n",
    "    print()\n",
    "\n",
    "    # Plot the confusion matrix\n",
    "    ConfusionMatrixDisplay.from_predictions(y_test, y_pred, cmap=plt.cm.Greys, normalize='true', text_kw={'fontsize': 11})\n",
    "    plt.title('Confusion Matrix')\n",
    "    plt.show()\n",
    "\n",
    "    # Make the bar Plot from f_importances \n",
    "    f_importances.plot(x='Features', y='Importance', kind='bar', figsize=(12, 4), rot=45, fontsize=11)#, yerr=std)"
   ]
  },
  {
   "cell_type": "markdown",
   "metadata": {},
   "source": [
    "### Grid Search CV"
   ]
  },
  {
   "cell_type": "code",
   "execution_count": null,
   "metadata": {},
   "outputs": [],
   "source": [
    "# Define the parameter grid\n",
    "param_grid = {\n",
    "    'n_estimators': [50, 100, 300, 500, 800],\n",
    "    'max_depth': [5, 15, 25, 50],\n",
    "    'min_samples_split': [5, 10, 15, 20, 30, 40 , 50, 60, 70, 80]\n",
    "}\n",
    "\n",
    "def gridsearch_RF(param_grid: dict, cv: int, X_train: npt.NDArray, y_train: npt.NDArray, X_test: npt.NDArray, n_jobs: int, random_state: int=42, verbose: int=2) -> Tuple[RandomForestClassifier, npt.NDArray, dict]:\n",
    "    \n",
    "    \"\"\"\n",
    "    Function that takes in input the parameter grid and the preprocessed data and returns the best model and the predictions.\n",
    "\n",
    "    :params param_grid: parameter grid for the Grid Search\n",
    "    :params cv: cross-validation folds\n",
    "    :params X_train: training features\n",
    "    :params y_train: training target\n",
    "    :params X_test: testing features\n",
    "    :params random_state: random state for reproducibility\n",
    "    :params verbose: verbosity level\n",
    "    :params n_jobs: number of jobs to run in parallel\n",
    "    :return: a tuple with the best model and the predictions: model, y_pred\n",
    "    \n",
    "    \"\"\"\n",
    "\n",
    "    RF = RandomForestClassifier(criterion='entropy', class_weight='balanced_subsample', random_state=random_state)\n",
    "\n",
    "    # Initialize the grid search model\n",
    "    grid_search = GridSearchCV(estimator=RF, param_grid=param_grid, cv=cv, verbose=verbose, n_jobs=n_jobs, return_train_score=True)\n",
    "\n",
    "    # Fit the grid search to the data\n",
    "    grid_search.fit(X_train, y_train)\n",
    "\n",
    "    # Get the best parameters\n",
    "    best_params = grid_search.best_params_\n",
    "    best_index = grid_search.best_index_\n",
    "\n",
    "    print('Best parameters:', best_params)\n",
    "    print('ID of the best combination:', best_index)\n",
    "\n",
    "    # Fit the model with the best parameters\n",
    "    RF_best = RandomForestClassifier(**best_params)\n",
    "    RF_best.fit(X_train, y_train)\n",
    "\n",
    "    # Predict on the test set\n",
    "    y_pred = RF_best.predict(X_test)\n",
    "\n",
    "    return RF_best, y_pred, grid_search"
   ]
  },
  {
   "cell_type": "code",
   "execution_count": 16,
   "metadata": {},
   "outputs": [
    {
     "name": "stdout",
     "output_type": "stream",
     "text": [
      "label_ngen\n",
      "0    11683\n",
      "1    11683\n",
      "Name: count, dtype: int64\n",
      "Training Score: 0.9885\n",
      "Test score (Accuracy):     0.85\n",
      "\n"
     ]
    },
    {
     "data": {
      "image/png": "[encoded data removed]",
      "text/plain": [
       "<Figure size 640x480 with 2 Axes>"
      ]
     },
     "metadata": {},
     "output_type": "display_data"
    },
    {
     "data": {
      "image/png": "[encoded data removed]",
      "text/plain": [
       "<Figure size 1200x400 with 1 Axes>"
      ]
     },
     "metadata": {},
     "output_type": "display_data"
    }
   ],
   "source": [
    "df_1 = df.filter(pl.col('label')==0)\n",
    "X, y, X_train, y_train, X_test, y_test = data_preprocessing(df_1, n_sample=5000, label='label_ngen', test_size=0.2)\n",
    "\n",
    "\n",
    "RF, y_pred = simple_RF(X_train, y_train, X_test)\n",
    "\n",
    "model_evaluation(RF, X, y, X_train, y_train, X_test, y_test, y_pred)"
   ]
  },
  {
   "cell_type": "code",
   "execution_count": null,
   "metadata": {},
   "outputs": [],
   "source": [
    "%%time\n",
    "X, y, X_train, y_train, X_test, y_test = data_preprocessing(df, n_samples=10000, label='label', random_state=42, test_size=0.2)\n",
    "\n",
    "\n",
    "RF_best, y_pred, grid_search = gridsearch_RF(param_grid=param_grid, cv=3, X_train=X_train, y_train=y_train, X_test=X_test, n_jobs=25)\n",
    "\n",
    "model_evaluation(RF_best, X, y, X_train, y_train, X_test, y_test, y_pred)"
   ]
  },
  {
   "cell_type": "code",
   "execution_count": null,
   "metadata": {},
   "outputs": [],
   "source": [
    "def model_scores(grid_search: dict, best_index: int) -> None:\n",
    "\n",
    "    \"\"\"\n",
    "    Function that takes in input the grid search results and the best index and returns the mean test scores plot.\n",
    "\n",
    "    :params grid_search: grid search results\n",
    "    :params best_index: best index\n",
    "    :return: None\n",
    "    \"\"\"\n",
    "    # Get mean test scores\n",
    "    mean_test_scores = grid_search.cv_results_['mean_test_score']\n",
    "    mean_train_scores = grid_search.cv_results_['mean_train_score']\n",
    "\n",
    "    # Plot mean test scores\n",
    "    plt.figure(figsize=(10, 6))\n",
    "\n",
    "    plt.plot(range(1, len(mean_test_scores)+1), mean_test_scores, label='Mean Test Score', color='blue')\n",
    "    plt.plot(range(1, len(mean_train_scores)+1), mean_train_scores, label='Mean Train Score', color='orange')\n",
    "    plt.xlabel('Index of hyperparameter combination')\n",
    "    plt.vlines(x=best_index, ymin=0, ymax=1.2, color='green', label='Best combination')\n",
    "    plt.ylabel('Mean Score')\n",
    "    plt.legend(loc='best')\n",
    "    plt.ylim(0.5, 1.1)\n",
    "    plt.show()"
   ]
  },
  {
   "cell_type": "code",
   "execution_count": null,
   "metadata": {},
   "outputs": [],
   "source": [
    "model_scores(grid_search, best_index=55)"
   ]
  },
  {
   "cell_type": "code",
   "execution_count": null,
   "metadata": {},
   "outputs": [],
   "source": [
    "import shap\n",
    "\n",
    "# Create object that can calculate shap values\n",
    "explainer = shap.TreeExplainer(rf)\n",
    "\n",
    "# Calculate Shap values\n",
    "shap_values = explainer.shap_values(X_train[:150].values)"
   ]
  },
  {
   "cell_type": "code",
   "execution_count": null,
   "metadata": {},
   "outputs": [],
   "source": [
    "fig = plt.figure()\n",
    "\n",
    "ax0 = fig.add_subplot(211)\n",
    "ax0.set_title('Non-evolved - 0')\n",
    "shap.summary_plot(np.abs(shap_values[0]), X_test[:150], plot_type='violin', show=False)\n",
    "ax0.set_xlabel('SHAP values (impact on output model)', fontsize=11)\n",
    "\n",
    "\n",
    "\n",
    "ax1 = fig.add_subplot(212)\n",
    "ax1.set_title('Evolved - 1')\n",
    "shap.summary_plot(np.abs(shap_values[1]), X_test[:150], plot_type='violin', show=False)\n",
    "ax1.set_xlabel('SHAP values (impact on output model)', fontsize=11)\n",
    "\n",
    "\n",
    "# ax2 = fig.add_subplot(313)\n",
    "# plt.title('Class 0 - CE')\n",
    "# shap.summary_plot(shap_values[0], X_test[:150], plot_type='violin', show=False)\n",
    "# plt.xlabel('SHAP values (impact on output model)', fontsize=11)\n",
    "\n",
    "plt.subplots_adjust(hspace = 50)\n",
    "plt.gcf().set_size_inches(7,10)\n",
    "plt.tight_layout()\n",
    "plt.show()"
   ]
  },
  {
   "cell_type": "code",
   "execution_count": null,
   "metadata": {},
   "outputs": [],
   "source": [
    "import shap\n",
    "shap_values = shap.TreeExplainer(rf).shap_values(X_test[:150])\n",
    "shap.summary_plot(shap_values, X_test[:150])"
   ]
  },
  {
   "cell_type": "code",
   "execution_count": null,
   "metadata": {},
   "outputs": [],
   "source": []
  },
  {
   "cell_type": "code",
   "execution_count": null,
   "metadata": {},
   "outputs": [],
   "source": []
  }
 ],
 "metadata": {
  "kernelspec": {
   "display_name": "Python 3 (ipykernel)",
   "language": "python",
   "name": "python3"
  },
  "language_info": {
   "codemirror_mode": {
    "name": "ipython",
    "version": 3
   },
   "file_extension": ".py",
   "mimetype": "text/x-python",
   "name": "python",
   "nbconvert_exporter": "python",
   "pygments_lexer": "ipython3",
   "version": "3.10.10"
  }
 },
 "nbformat": 4,
 "nbformat_minor": 2
}
